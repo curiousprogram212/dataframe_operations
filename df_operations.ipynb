{
  "nbformat": 4,
  "nbformat_minor": 0,
  "metadata": {
    "colab": {
      "provenance": []
    },
    "kernelspec": {
      "name": "python3",
      "display_name": "Python 3"
    },
    "language_info": {
      "name": "python"
    }
  },
  "cells": [
    {
      "cell_type": "code",
      "execution_count": null,
      "metadata": {
        "id": "9Y5hRlJBbRIc"
      },
      "outputs": [],
      "source": [
        "fb.assign(\n",
        "    abs_z_score_volume=lambda x: \\\n",
        "        x.volume.sub(x.volume.mean()).div(x.volume.std()).abs()\n",
        ").query('abs_z_score_volume > 3')"
      ]
    },
    {
      "cell_type": "code",
      "source": [
        "fb.assign(\n",
        "    volume_pct_change=fb.volume.pct_change(),\n",
        "    pct_change_rank=lambda x: \\\n",
        "        x.volume_pct_change.abs().rank(ascending=False)\n",
        ").nsmallest(5, 'pct_change_rank')"
      ],
      "metadata": {
        "id": "B7whpdqKbTw9"
      },
      "execution_count": null,
      "outputs": []
    },
    {
      "cell_type": "code",
      "source": [
        "fb['2018-01-11':'2018-01-12']\n"
      ],
      "metadata": {
        "id": "SboMrZSkbVa7"
      },
      "execution_count": null,
      "outputs": []
    },
    {
      "cell_type": "code",
      "source": [
        "volume_binned = pd.cut(fb.volume, bins=3, labels=['low', 'med', 'high'])\n",
        "volume_binned.value_counts()"
      ],
      "metadata": {
        "id": "K5tvAnaQbZC_"
      },
      "execution_count": null,
      "outputs": []
    },
    {
      "cell_type": "code",
      "source": [
        "from visual_aids.misc_viz import low_med_high_bins_viz\n",
        "\n",
        "low_med_high_bins_viz(\n",
        "    fb, 'volume', ylabel='volume traded',\n",
        "    title='Daily Volume Traded of Facebook Stock in 2018 (with bins)'\n",
        ")"
      ],
      "metadata": {
        "id": "BGL2CoaybbJH"
      },
      "execution_count": null,
      "outputs": []
    }
  ]
}